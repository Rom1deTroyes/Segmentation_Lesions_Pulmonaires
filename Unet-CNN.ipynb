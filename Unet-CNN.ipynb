{
  "nbformat": 4,
  "nbformat_minor": 0,
  "metadata": {
    "colab": {
      "name": "Unet.ipynb",
      "provenance": [],
      "collapsed_sections": [
        "dgPFKF75cseq"
      ]
    },
    "kernelspec": {
      "name": "python3",
      "display_name": "Python 3"
    },
    "language_info": {
      "name": "python"
    }
  },
  "cells": [
    {
      "cell_type": "markdown",
      "source": [
        "![](https://simplonline.co/_next/image?url=https%3A%2F%2Fsimplonline-v3-prod.s3.eu-west-3.amazonaws.com%2Fmedia%2Fimage%2Fjpg%2Fcb4b9733-3fff-43d0-a1c7-e469e016b978.jpg&w=1280&q=75)\n",
        "\n",
        "# Segmentation des lésions pulmonaires\n",
        "\n",
        "Ce brief a pour objectif de manipuler une architecture CNN pour réaliser la segmentation.\n",
        "\n",
        "Dans ce brief, nous appliquons un apprentissage supervisé pour détecter les lésions pulmonaires à partir d’une image.\n"
      ],
      "metadata": {
        "id": "oK-8bG1nb02W"
      }
    },
    {
      "cell_type": "markdown",
      "source": [
        "### Partie 1 : Base de données\n",
        "\n",
        "Pour aborder cette problématique, il est primordial d’avoir une DataSet. Pour cela, la DataSet se trouve sur : https://drive.google.com/file/d/1TVQ5a-IOdn95eAAT8QLVA45s8WBAW1re/view?usp=sharing\n",
        "\n",
        "Par la suite, il faut développer les étapes suivantes :\n",
        "\n",
        "- [ ] Charger les images.\n"
      ],
      "metadata": {
        "id": "dgPFKF75cseq"
      }
    },
    {
      "cell_type": "code",
      "source": [
        ""
      ],
      "metadata": {
        "id": "KTVyUJQAoxr4"
      },
      "execution_count": null,
      "outputs": []
    },
    {
      "cell_type": "markdown",
      "source": [
        "- [ ] Penser à redimensionner les images selon le modèle souhaité."
      ],
      "metadata": {
        "id": "_YlVRd84oyB7"
      }
    },
    {
      "cell_type": "code",
      "source": [
        ""
      ],
      "metadata": {
        "id": "IZC57MIYc-UB"
      },
      "execution_count": null,
      "outputs": []
    },
    {
      "cell_type": "markdown",
      "source": [
        "- [ ] Splitter les données en données d’apprentissage, validation et test.\n"
      ],
      "metadata": {
        "id": "G0c2qFCPo6yJ"
      }
    },
    {
      "cell_type": "code",
      "source": [
        ""
      ],
      "metadata": {
        "id": "pH_Aoy-wo7hI"
      },
      "execution_count": null,
      "outputs": []
    },
    {
      "cell_type": "markdown",
      "source": [
        "- [ ] Visualiser les images de CT et sa vérité terrain (segmentation manuelle)."
      ],
      "metadata": {
        "id": "qT2Hp0jdo-kb"
      }
    },
    {
      "cell_type": "code",
      "source": [
        ""
      ],
      "metadata": {
        "id": "I76U9MZppALr"
      },
      "execution_count": null,
      "outputs": []
    },
    {
      "cell_type": "markdown",
      "source": [
        "- [ ] Appliquer la data augmentation."
      ],
      "metadata": {
        "id": "LoJKvzXIpBcB"
      }
    },
    {
      "cell_type": "markdown",
      "source": [
        "\n",
        "### Partie 2 : Transfer Learning\n",
        "\n",
        "Cette deuxième partie est réservée pour préparer le modèle de segmentation et d’appliquer un Transfer Learning votre architecture.\n",
        "\n",
        "Calculer le F1-Score sur la base de test.\n"
      ],
      "metadata": {
        "id": "GSmtvpLFcwc0"
      }
    },
    {
      "cell_type": "code",
      "source": [
        ""
      ],
      "metadata": {
        "id": "xxbdmWKac9tF"
      },
      "execution_count": null,
      "outputs": []
    }
  ]
}